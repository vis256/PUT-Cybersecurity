{
 "cells": [
  {
   "cell_type": "markdown",
   "metadata": {},
   "source": [
    "## Laboratory 01: Lab enviroment\n",
    "### Security of Big Data Analytics\n",
    "\n",
    "Mateusz Wiśniewski - 148327"
   ]
  },
  {
   "cell_type": "code",
   "execution_count": 1,
   "metadata": {},
   "outputs": [
    {
     "name": "stdout",
     "output_type": "stream",
     "text": [
      "Select operation:\n",
      "1. Add\n",
      "2. Subtract\n",
      "3. Multiply\n",
      "4. Divide\n",
      "5. Exit\n",
      "5.0\n",
      "Select operation:\n",
      "1. Add\n",
      "2. Subtract\n",
      "3. Multiply\n",
      "4. Divide\n",
      "5. Exit\n",
      "Exiting calculator...\n"
     ]
    }
   ],
   "source": [
    "# Create a program that facilitates user interaction and enables basic arithmetic operations, including addition, subtraction, multiplication, and division.\n",
    "\n",
    "def add(x, y):\n",
    "    return x + y\n",
    "\n",
    "def subtract(x, y):\n",
    "    return x - y\n",
    "\n",
    "def multiply(x, y):\n",
    "    return x * y\n",
    "\n",
    "def divide(x, y):\n",
    "    if y == 0:\n",
    "        return \"Error: Division by zero\"\n",
    "    return x / y\n",
    "\n",
    "while True:\n",
    "    print(\"Select operation:\")\n",
    "    print(\"1. Add\")\n",
    "    print(\"2. Subtract\")\n",
    "    print(\"3. Multiply\")\n",
    "    print(\"4. Divide\")\n",
    "    print(\"5. Exit\")\n",
    "\n",
    "    choice = input(\"Enter choice (1/2/3/4/5): \")\n",
    "\n",
    "    if choice == '5':\n",
    "        print(\"Exiting calculator...\")\n",
    "        break\n",
    "\n",
    "    if choice in ('1', '2', '3', '4', '5'):\n",
    "        num1 = float(input(\"Enter first number: \"))\n",
    "        num2 = float(input(\"Enter second number: \"))\n",
    "\n",
    "        if choice == '1':\n",
    "            print(add(num1, num2))\n",
    "        elif choice == '2':\n",
    "            print(subtract(num1, num2))\n",
    "        elif choice == '3':\n",
    "            print(multiply(num1, num2))\n",
    "        elif choice == '4':\n",
    "            print(divide(num1, num2))\n",
    "    else:\n",
    "        print(\"Invalid input\")"
   ]
  },
  {
   "cell_type": "code",
   "execution_count": null,
   "metadata": {},
   "outputs": [],
   "source": [
    "# Create a program to read data from data_01.txt (the file contains two columns of counts), then perform the\n",
    "# selected arithmetic operation on the data (line by line) and write the result to a new file in the following form:\n",
    "# number_1 the symbol of the operation (e.g. +) number_2 = the result of the operation.\n",
    "\n",
    "def add(x, y):\n",
    "    return x + y\n",
    "\n",
    "with open(\"data_01.txt\", \"r\") as file:\n",
    "    data = file.readlines()\n",
    "    data = [line.split(\"\\t\") for line in data]\n",
    "    data = [[int(line[0]), int(line[1])] for line in data]\n",
    "    new_data = [add(line[0], line[1]) for line in data]\n",
    "\n",
    "    with open(\"result.txt\", \"w\") as result:\n",
    "        for i in range(len(data)):\n",
    "            result.write(f\"{new_data[i]}\\n\")"
   ]
  }
 ],
 "metadata": {
  "kernelspec": {
   "display_name": "usr",
   "language": "python",
   "name": "python3"
  },
  "language_info": {
   "codemirror_mode": {
    "name": "ipython",
    "version": 3
   },
   "file_extension": ".py",
   "mimetype": "text/x-python",
   "name": "python",
   "nbconvert_exporter": "python",
   "pygments_lexer": "ipython3",
   "version": "3.12.7"
  }
 },
 "nbformat": 4,
 "nbformat_minor": 2
}
