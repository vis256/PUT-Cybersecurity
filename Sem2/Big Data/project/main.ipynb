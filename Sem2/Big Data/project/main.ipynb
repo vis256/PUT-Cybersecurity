{
 "cells": [
  {
   "cell_type": "code",
   "execution_count": 21,
   "metadata": {},
   "outputs": [],
   "source": [
    "# Imports\n",
    "import pandas as pd\n",
    "import matplotlib.pyplot as plt\n",
    "import numpy as np\n",
    "import ipywidgets as widgets\n",
    "from IPython.display import display\n",
    "%matplotlib inline"
   ]
  },
  {
   "cell_type": "code",
   "execution_count": 2,
   "metadata": {},
   "outputs": [],
   "source": [
    "FILENAME = \"release_data_styles.csv\"\n",
    "\n",
    "# https://www.kaggle.com/datasets/sohrabdaemi/discogs-database-all-release-data?resource=download\n",
    "# Download data from there, extract .zip and move release_data_styles.csv to project root"
   ]
  },
  {
   "cell_type": "code",
   "execution_count": null,
   "metadata": {},
   "outputs": [
    {
     "data": {
      "text/plain": [
       "187542426"
      ]
     },
     "execution_count": 5,
     "metadata": {},
     "output_type": "execute_result"
    }
   ],
   "source": [
    "# Read file\n",
    "df = pd.read_csv(FILENAME)\n",
    "df.size"
   ]
  },
  {
   "cell_type": "code",
   "execution_count": 6,
   "metadata": {},
   "outputs": [
    {
     "data": {
      "text/html": [
       "<div>\n",
       "<style scoped>\n",
       "    .dataframe tbody tr th:only-of-type {\n",
       "        vertical-align: middle;\n",
       "    }\n",
       "\n",
       "    .dataframe tbody tr th {\n",
       "        vertical-align: top;\n",
       "    }\n",
       "\n",
       "    .dataframe thead th {\n",
       "        text-align: right;\n",
       "    }\n",
       "</style>\n",
       "<table border=\"1\" class=\"dataframe\">\n",
       "  <thead>\n",
       "    <tr style=\"text-align: right;\">\n",
       "      <th></th>\n",
       "      <th>release_id</th>\n",
       "      <th>country</th>\n",
       "      <th>year</th>\n",
       "      <th>genre</th>\n",
       "      <th>style</th>\n",
       "      <th>format</th>\n",
       "    </tr>\n",
       "  </thead>\n",
       "  <tbody>\n",
       "    <tr>\n",
       "      <th>0</th>\n",
       "      <td>1</td>\n",
       "      <td>Sweden</td>\n",
       "      <td>1999.0</td>\n",
       "      <td>Electronic</td>\n",
       "      <td>Deep House</td>\n",
       "      <td>Vinyl</td>\n",
       "    </tr>\n",
       "    <tr>\n",
       "      <th>1</th>\n",
       "      <td>2</td>\n",
       "      <td>Sweden</td>\n",
       "      <td>1998.0</td>\n",
       "      <td>Electronic</td>\n",
       "      <td>Broken Beat</td>\n",
       "      <td>Vinyl</td>\n",
       "    </tr>\n",
       "    <tr>\n",
       "      <th>2</th>\n",
       "      <td>2</td>\n",
       "      <td>Sweden</td>\n",
       "      <td>1998.0</td>\n",
       "      <td>Electronic</td>\n",
       "      <td>Techno</td>\n",
       "      <td>Vinyl</td>\n",
       "    </tr>\n",
       "    <tr>\n",
       "      <th>3</th>\n",
       "      <td>2</td>\n",
       "      <td>Sweden</td>\n",
       "      <td>1998.0</td>\n",
       "      <td>Electronic</td>\n",
       "      <td>Tech House</td>\n",
       "      <td>Vinyl</td>\n",
       "    </tr>\n",
       "    <tr>\n",
       "      <th>4</th>\n",
       "      <td>3</td>\n",
       "      <td>US</td>\n",
       "      <td>1999.0</td>\n",
       "      <td>Electronic</td>\n",
       "      <td>Techno</td>\n",
       "      <td>CD</td>\n",
       "    </tr>\n",
       "  </tbody>\n",
       "</table>\n",
       "</div>"
      ],
      "text/plain": [
       "   release_id country    year       genre        style format\n",
       "0           1  Sweden  1999.0  Electronic   Deep House  Vinyl\n",
       "1           2  Sweden  1998.0  Electronic  Broken Beat  Vinyl\n",
       "2           2  Sweden  1998.0  Electronic       Techno  Vinyl\n",
       "3           2  Sweden  1998.0  Electronic   Tech House  Vinyl\n",
       "4           3      US  1999.0  Electronic       Techno     CD"
      ]
     },
     "execution_count": 6,
     "metadata": {},
     "output_type": "execute_result"
    }
   ],
   "source": [
    "df.head()"
   ]
  },
  {
   "cell_type": "markdown",
   "metadata": {},
   "source": [
    "### Plot releases by year from set genre/style"
   ]
  },
  {
   "cell_type": "code",
   "execution_count": 22,
   "metadata": {},
   "outputs": [],
   "source": [
    "# Plot graph\n",
    "def plot_graph(selected_style):\n",
    "    plt.close(\"all\")\n",
    "    \n",
    "    # Filter data\n",
    "    data = df[df[\"style\"] == selected_style]\n",
    "    data = data.groupby(\"year\").size()\n",
    "    data = data.reset_index(name=\"count\")\n",
    "    \n",
    "    # Plot\n",
    "    plt.clf()\n",
    "    plt.figure(figsize=(15, 5))\n",
    "    plt.plot(data[\"year\"], data[\"count\"])\n",
    "    plt.xlabel(\"Year\")\n",
    "    plt.ylabel(\"Count\")\n",
    "    plt.title(f\"Number of releases per year - {selected_style}\")\n",
    "    plt.show()"
   ]
  },
  {
   "cell_type": "code",
   "execution_count": 17,
   "metadata": {},
   "outputs": [],
   "source": [
    "# Style dropdown values\n",
    "style_options = df['style'].value_counts().index.tolist()"
   ]
  },
  {
   "cell_type": "code",
   "execution_count": 27,
   "metadata": {},
   "outputs": [
    {
     "data": {
      "application/vnd.jupyter.widget-view+json": {
       "model_id": "f524d252586d4bb0bd3275786f22b01b",
       "version_major": 2,
       "version_minor": 0
      },
      "text/plain": [
       "interactive(children=(Dropdown(description='selected_style', options=('Pop Rock', 'Synth-pop', 'Vocal', 'House…"
      ]
     },
     "execution_count": 27,
     "metadata": {},
     "output_type": "execute_result"
    }
   ],
   "source": [
    "# Dropdown with plot\n",
    "interactive_plot = widgets.interactive(plot_graph, selected_style=style_options)\n",
    "interactive_plot"
   ]
  }
 ],
 "metadata": {
  "kernelspec": {
   "display_name": ".venv",
   "language": "python",
   "name": "python3"
  },
  "language_info": {
   "codemirror_mode": {
    "name": "ipython",
    "version": 3
   },
   "file_extension": ".py",
   "mimetype": "text/x-python",
   "name": "python",
   "nbconvert_exporter": "python",
   "pygments_lexer": "ipython3",
   "version": "3.13.0"
  }
 },
 "nbformat": 4,
 "nbformat_minor": 2
}
